{
 "cells": [
  {
   "cell_type": "code",
   "execution_count": 2,
   "id": "d852023b",
   "metadata": {},
   "outputs": [
    {
     "name": "stdout",
     "output_type": "stream",
     "text": [
      "hello\n"
     ]
    }
   ],
   "source": [
    "print(\"hello\")"
   ]
  },
  {
   "cell_type": "code",
   "execution_count": 26,
   "id": "d3844373",
   "metadata": {},
   "outputs": [
    {
     "data": {
      "text/plain": [
       "'e:\\\\Downloads\\\\New folder\\\\Medical-Chatbot\\\\research'"
      ]
     },
     "execution_count": 26,
     "metadata": {},
     "output_type": "execute_result"
    }
   ],
   "source": [
    "%pwd"
   ]
  },
  {
   "cell_type": "code",
   "execution_count": 27,
   "id": "bc1698b9",
   "metadata": {},
   "outputs": [],
   "source": [
    "import os\n",
    "os.chdir(\"../\")"
   ]
  },
  {
   "cell_type": "code",
   "execution_count": 28,
   "id": "0a4eed6b",
   "metadata": {},
   "outputs": [
    {
     "data": {
      "text/plain": [
       "'e:\\\\Downloads\\\\New folder\\\\Medical-Chatbot'"
      ]
     },
     "execution_count": 28,
     "metadata": {},
     "output_type": "execute_result"
    }
   ],
   "source": [
    "%pwd"
   ]
  },
  {
   "cell_type": "code",
   "execution_count": 29,
   "id": "c556f74a",
   "metadata": {},
   "outputs": [],
   "source": [
    "from langchain.document_loaders import PyPDFLoader, DirectoryLoader\n",
    "from langchain.text_splitter import RecursiveCharacterTextSplitter"
   ]
  },
  {
   "cell_type": "code",
   "execution_count": 2,
   "id": "ce7b8b6d",
   "metadata": {},
   "outputs": [],
   "source": [
    "from langchain.document_loaders import DirectoryLoader, PyPDFLoader\n",
    "\n",
    "def load_pdf_file(data):\n",
    "    loader = DirectoryLoader(data, glob=\"*.pdf\", loader_cls=PyPDFLoader)\n",
    "    documents = loader.load()\n",
    "    return documents"
   ]
  },
  {
   "cell_type": "code",
   "execution_count": 3,
   "id": "8a3afc85",
   "metadata": {},
   "outputs": [
    {
     "name": "stdout",
     "output_type": "stream",
     "text": [
      "e:\\Downloads\\New folder\\Medical-Chatbot\\research\n"
     ]
    }
   ],
   "source": [
    "import os\n",
    "print(os.getcwd())"
   ]
  },
  {
   "cell_type": "code",
   "execution_count": 9,
   "id": "0ff61938",
   "metadata": {},
   "outputs": [
    {
     "name": "stdout",
     "output_type": "stream",
     "text": [
      "Defaulting to user installation because normal site-packages is not writeable\n",
      "Collecting pypdf\n",
      "  Using cached pypdf-5.7.0-py3-none-any.whl.metadata (7.2 kB)\n",
      "Using cached pypdf-5.7.0-py3-none-any.whl (305 kB)\n",
      "Installing collected packages: pypdf\n",
      "Successfully installed pypdf-5.7.0\n"
     ]
    }
   ],
   "source": [
    "!pip install pypdf"
   ]
  },
  {
   "cell_type": "code",
   "execution_count": 10,
   "id": "acb2016e",
   "metadata": {},
   "outputs": [],
   "source": [
    "extracted_data = load_pdf_file(r\"E:\\Downloads\\New folder\\Medical-Chatbot\\Data\")"
   ]
  },
  {
   "cell_type": "code",
   "execution_count": 14,
   "id": "5ad93e29",
   "metadata": {},
   "outputs": [],
   "source": [
    "#extracted_data"
   ]
  },
  {
   "cell_type": "markdown",
   "id": "ae808566",
   "metadata": {},
   "source": [
    "Chunking operation"
   ]
  },
  {
   "cell_type": "code",
   "execution_count": 14,
   "id": "125d311d",
   "metadata": {},
   "outputs": [],
   "source": [
    "#split the text into text chunks\n",
    "def text_split(extracted_data):\n",
    "    text_splitter=RecursiveCharacterTextSplitter(chunk_size=500, chunk_overlap=20)\n",
    "    text_chunks=text_splitter.split_documents(extracted_data)\n",
    "    return text_chunks"
   ]
  },
  {
   "cell_type": "code",
   "execution_count": 16,
   "id": "36e7b18d",
   "metadata": {},
   "outputs": [
    {
     "name": "stdout",
     "output_type": "stream",
     "text": [
      "Length of Text Chunks 40000\n"
     ]
    }
   ],
   "source": [
    "from langchain.text_splitter import RecursiveCharacterTextSplitter\n",
    "\n",
    "def text_split(extracted_data):\n",
    "    text_splitter = RecursiveCharacterTextSplitter(chunk_size=500, chunk_overlap=20)\n",
    "    text_chunks = text_splitter.split_documents(extracted_data)\n",
    "    return text_chunks\n",
    "\n",
    "# Now run the function\n",
    "text_chunks = text_split(extracted_data)\n",
    "print(\"Length of Text Chunks\", len(text_chunks))"
   ]
  },
  {
   "cell_type": "code",
   "execution_count": 17,
   "id": "f7de564e",
   "metadata": {},
   "outputs": [],
   "source": [
    "from langchain.embeddings import HuggingFaceEmbeddings"
   ]
  },
  {
   "cell_type": "code",
   "execution_count": 18,
   "id": "06a2753b",
   "metadata": {},
   "outputs": [],
   "source": [
    "#download the embadding hugging face\n",
    "def download_hugging_face_embeddings():\n",
    "    embeddings=HuggingFaceEmbeddings(model_name='sentence-transformers/all-MinLM-L6-v2')\n",
    "    return embeddings"
   ]
  },
  {
   "cell_type": "code",
   "execution_count": 19,
   "id": "883fd1e7",
   "metadata": {},
   "outputs": [
    {
     "name": "stderr",
     "output_type": "stream",
     "text": [
      "C:\\Users\\HP Laptop\\AppData\\Local\\Temp\\ipykernel_24044\\3415835077.py:2: LangChainDeprecationWarning: The class `HuggingFaceEmbeddings` was deprecated in LangChain 0.2.2 and will be removed in 1.0. An updated version of the class exists in the :class:`~langchain-huggingface package and should be used instead. To use it run `pip install -U :class:`~langchain-huggingface` and import as `from :class:`~langchain_huggingface import HuggingFaceEmbeddings``.\n",
      "  embeddings = HuggingFaceEmbeddings(model_name=\"sentence-transformers/all-MiniLM-L6-v2\")\n",
      "C:\\Users\\HP Laptop\\AppData\\Roaming\\Python\\Python312\\site-packages\\tqdm\\auto.py:21: TqdmWarning: IProgress not found. Please update jupyter and ipywidgets. See https://ipywidgets.readthedocs.io/en/stable/user_install.html\n",
      "  from .autonotebook import tqdm as notebook_tqdm\n"
     ]
    }
   ],
   "source": [
    "from langchain_community.embeddings import HuggingFaceEmbeddings\n",
    "embeddings = HuggingFaceEmbeddings(model_name=\"sentence-transformers/all-MiniLM-L6-v2\")"
   ]
  },
  {
   "cell_type": "code",
   "execution_count": 20,
   "id": "af693bf0",
   "metadata": {},
   "outputs": [
    {
     "name": "stdout",
     "output_type": "stream",
     "text": [
      "Length 384\n"
     ]
    }
   ],
   "source": [
    "query_result = embeddings.embed_query(\"Hello World\")\n",
    "print(\"Length\",len(query_result))"
   ]
  },
  {
   "cell_type": "code",
   "execution_count": 21,
   "id": "1a47be1a",
   "metadata": {},
   "outputs": [
    {
     "data": {
      "text/plain": [
       "True"
      ]
     },
     "execution_count": 21,
     "metadata": {},
     "output_type": "execute_result"
    }
   ],
   "source": [
    "from dotenv import load_dotenv\n",
    "load_dotenv()"
   ]
  },
  {
   "cell_type": "code",
   "execution_count": 24,
   "id": "73f3cd13",
   "metadata": {},
   "outputs": [
    {
     "name": "stdout",
     "output_type": "stream",
     "text": [
      "API KEY: pcsk_Km16b_311aZo4c6ZT9JtHv4ruihKWtSmQgpCEgbURyCVm27Fhxjqywo2R54yQnptLyiHD\n"
     ]
    }
   ],
   "source": [
    "from dotenv import load_dotenv\n",
    "import os\n",
    "\n",
    "load_dotenv()\n",
    "api_key = os.getenv(\"PINECONE_API_KEY\")\n",
    "\n",
    "# Optional: remove quotes if they're still there\n",
    "api_key = api_key.strip('\"')\n",
    "\n",
    "print(\"API KEY:\", api_key)"
   ]
  },
  {
   "cell_type": "code",
   "execution_count": 25,
   "id": "0c8a3323",
   "metadata": {},
   "outputs": [
    {
     "name": "stdout",
     "output_type": "stream",
     "text": [
      "Total vectors stored: 0\n"
     ]
    }
   ],
   "source": [
    "from pinecone import Pinecone\n",
    "\n",
    "pc = Pinecone(api_key=api_key)\n",
    "\n",
    "# Connect to existing index\n",
    "index = pc.Index(\"medicalbot\")\n",
    "\n",
    "# You can now describe or use the index\n",
    "stats = index.describe_index_stats()\n",
    "print(\"Total vectors stored:\", stats.total_vector_count)"
   ]
  },
  {
   "cell_type": "code",
   "execution_count": 27,
   "id": "7119448e",
   "metadata": {},
   "outputs": [
    {
     "name": "stdout",
     "output_type": "stream",
     "text": [
      "Using API Key: pcsk_Km16b_311aZo4c6ZT9JtHv4ruihKWtSmQgpCEgbURyCVm27Fhxjqywo2R54yQnptLyiHD\n",
      "Total vectors stored: 0\n"
     ]
    }
   ],
   "source": [
    "from dotenv import load_dotenv\n",
    "import os\n",
    "from pinecone import Pinecone\n",
    "\n",
    "load_dotenv()  # ✅ Reads from .env file\n",
    "\n",
    "api_key = os.getenv(\"PINECONE_API_KEY\")\n",
    "print(\"Using API Key:\", api_key)  # Should show the actual long key\n",
    "\n",
    "pc = Pinecone(api_key=api_key)\n",
    "\n",
    "index = pc.Index(\"medicalbot\")\n",
    "stats = index.describe_index_stats()\n",
    "print(\"Total vectors stored:\", stats.total_vector_count)"
   ]
  },
  {
   "cell_type": "code",
   "execution_count": 64,
   "id": "a1aff443",
   "metadata": {},
   "outputs": [],
   "source": [
    "import os\n",
    "os.environ[\"PINECONE_API_KEY\"] = \"pcsk_Km16b_311aZo4c6ZT9JtHv4ruihKWtSmQgpCEgbURyCVm27Fhxjqywo2R54yQnptLyiHD\"\n",
    "import os\n",
    "os.environ[\"COHERE_API_KEY\"] = \"NBP7WXJCUucInhPHSJMfiPSlz2TKC3mTCr1VxxmP\""
   ]
  },
  {
   "cell_type": "code",
   "execution_count": 33,
   "id": "8a841c78",
   "metadata": {},
   "outputs": [],
   "source": [
    "from langchain_community.embeddings import HuggingFaceEmbeddings\n",
    "from langchain_pinecone import PineconeVectorStore\n",
    "from langchain.schema import Document\n",
    "\n",
    "# Optional: if your text_chunks are not in Document format\n",
    "if isinstance(text_chunks[0], str):\n",
    "    text_chunks = [Document(page_content=chunk) for chunk in text_chunks]\n",
    "\n",
    "# ✅ Define the embedding model\n",
    "embedding = HuggingFaceEmbeddings(model_name=\"sentence-transformers/all-MiniLM-L6-v2\")\n",
    "\n",
    "# ✅ Upload documents to Pinecone\n",
    "docsearch = PineconeVectorStore.from_documents(\n",
    "    documents=text_chunks,\n",
    "    embedding=embedding,\n",
    "    index_name=\"medicalbot\"\n",
    ")"
   ]
  },
  {
   "cell_type": "code",
   "execution_count": 34,
   "id": "bd6518da",
   "metadata": {},
   "outputs": [],
   "source": [
    "# Import the correct class\n",
    "from langchain_pinecone import PineconeVectorStore\n",
    "\n",
    "# Use the existing index and embedding model\n",
    "docsearch = PineconeVectorStore.from_existing_index(\n",
    "    index_name=\"medicalbot\",         # ✅ Make sure this matches your index\n",
    "    embedding=embedding              # ✅ This should be your embedding model object\n",
    ")"
   ]
  },
  {
   "cell_type": "code",
   "execution_count": 35,
   "id": "2e155753",
   "metadata": {},
   "outputs": [
    {
     "data": {
      "text/plain": [
       "<langchain_pinecone.vectorstores.PineconeVectorStore at 0x1f637f46f90>"
      ]
     },
     "execution_count": 35,
     "metadata": {},
     "output_type": "execute_result"
    }
   ],
   "source": [
    "docsearch"
   ]
  },
  {
   "cell_type": "code",
   "execution_count": 36,
   "id": "308ebe50",
   "metadata": {},
   "outputs": [],
   "source": [
    "retriever = docsearch.as_retriever(search_type=\"similarity\", search_kwargs={\"k\":3})"
   ]
  },
  {
   "cell_type": "code",
   "execution_count": 39,
   "id": "0ac82980",
   "metadata": {},
   "outputs": [],
   "source": [
    "retrieved_docs = retriever.invoke(\"What is Acne?\")"
   ]
  },
  {
   "cell_type": "code",
   "execution_count": 40,
   "id": "cc128d5d",
   "metadata": {},
   "outputs": [
    {
     "data": {
      "text/plain": [
       "[Document(id='693bb00b-7453-4fec-ab23-e05e055e40d4', metadata={'creationdate': '2006-10-16T20:19:33+02:00', 'creator': 'Adobe Acrobat 6.0', 'moddate': '2006-10-16T22:03:45+02:00', 'page': 55.0, 'page_label': '26', 'producer': 'PDFlib+PDI 6.0.3 (SunOS)', 'source': 'E:\\\\Downloads\\\\New folder\\\\Medical-Chatbot\\\\Data\\\\MedicalBook.pdf', 'total_pages': 4505.0}, page_content='Researchers, Inc. Reproduced by permission.)\\n26 GALE ENCYCLOPEDIA OF MEDICINE\\nAcne'),\n",
       " Document(id='bda2a206-1148-480a-8aea-ead422e2637a', metadata={'creationdate': '2006-10-16T20:19:33+02:00', 'creator': 'Adobe Acrobat 6.0', 'moddate': '2006-10-16T22:03:45+02:00', 'page': 55.0, 'page_label': '26', 'producer': 'PDFlib+PDI 6.0.3 (SunOS)', 'source': 'E:\\\\Downloads\\\\New folder\\\\Medical-Chatbot\\\\Data\\\\MedicalBook.pdf', 'total_pages': 4505.0}, page_content='Sebaceous follicles— A structure found within the\\nskin that houses the oil-producing glands and hair\\nfollicles, where pimples form.\\nSebum— An oily skin moisturizer produced by\\nsebaceous glands.\\nTretinoin— A drug that works by increasing the\\nturnover (death and replacement) of skin cells.\\nAcne vulgaris affecting a woman’s face. Acne is the general\\nname given to a skin disorder in which the sebaceous glands\\nbecome inflamed. (Photograph by Biophoto Associates, Photo'),\n",
       " Document(id='d02dea9f-908a-4666-b419-34c6f26ea547', metadata={'creationdate': '2006-10-16T20:19:33+02:00', 'creator': 'Adobe Acrobat 6.0', 'moddate': '2006-10-16T22:03:45+02:00', 'page': 54.0, 'page_label': '25', 'producer': 'PDFlib+PDI 6.0.3 (SunOS)', 'source': 'E:\\\\Downloads\\\\New folder\\\\Medical-Chatbot\\\\Data\\\\MedicalBook.pdf', 'total_pages': 4505.0}, page_content='Pathological Stage and Recurrence in Radical\\nProstatectomy Cases.’’Journal of Urology (March\\n1998): 935-940.\\nNancy J. Nordenson\\nAcid reflux see Heartburn\\nAcidosis see Respiratory acidosis; Renal\\ntubular acidosis; Metabolic acidosis\\nAcne\\nDefinition\\nAcne is a common skin disease characterized by\\npimples on the face, chest, and back. It occurs when\\nthe pores of the skin become clogged with oil, dead\\nskin cells, and bacteria.\\nDescription\\nAcne vulgaris, the medical term for common acne,')]"
      ]
     },
     "execution_count": 40,
     "metadata": {},
     "output_type": "execute_result"
    }
   ],
   "source": [
    "retrieved_docs"
   ]
  },
  {
   "cell_type": "code",
   "execution_count": 65,
   "id": "369ae5eb",
   "metadata": {},
   "outputs": [
    {
     "data": {
      "text/plain": [
       "True"
      ]
     },
     "execution_count": 65,
     "metadata": {},
     "output_type": "execute_result"
    }
   ],
   "source": [
    "from dotenv import load_dotenv\n",
    "import os\n",
    "\n",
    "load_dotenv()"
   ]
  },
  {
   "cell_type": "code",
   "execution_count": 68,
   "id": "b71ff89a",
   "metadata": {},
   "outputs": [
    {
     "name": "stdout",
     "output_type": "stream",
     "text": [
      "Defaulting to user installation because normal site-packages is not writeable\n",
      "Collecting langchain-cohere\n",
      "  Downloading langchain_cohere-0.4.4-py3-none-any.whl.metadata (6.6 kB)\n",
      "Collecting cohere\n",
      "  Downloading cohere-5.15.0-py3-none-any.whl.metadata (3.4 kB)\n",
      "Requirement already satisfied: langchain-community<0.4.0,>=0.3.0 in c:\\users\\hp laptop\\appdata\\roaming\\python\\python312\\site-packages (from langchain-cohere) (0.3.27)\n",
      "Requirement already satisfied: langchain-core<0.4.0,>=0.3.27 in c:\\users\\hp laptop\\appdata\\roaming\\python\\python312\\site-packages (from langchain-cohere) (0.3.68)\n",
      "Requirement already satisfied: pydantic<3,>=2 in c:\\users\\hp laptop\\appdata\\roaming\\python\\python312\\site-packages (from langchain-cohere) (2.11.7)\n",
      "Collecting types-pyyaml<7.0.0.0,>=6.0.12.20240917 (from langchain-cohere)\n",
      "  Downloading types_pyyaml-6.0.12.20250516-py3-none-any.whl.metadata (1.8 kB)\n",
      "Collecting fastavro<2.0.0,>=1.9.4 (from cohere)\n",
      "  Downloading fastavro-1.11.1-cp312-cp312-win_amd64.whl.metadata (5.9 kB)\n",
      "Requirement already satisfied: httpx>=0.21.2 in c:\\users\\hp laptop\\appdata\\roaming\\python\\python312\\site-packages (from cohere) (0.28.1)\n",
      "Collecting httpx-sse==0.4.0 (from cohere)\n",
      "  Using cached httpx_sse-0.4.0-py3-none-any.whl.metadata (9.0 kB)\n",
      "Requirement already satisfied: pydantic-core<3.0.0,>=2.18.2 in c:\\users\\hp laptop\\appdata\\roaming\\python\\python312\\site-packages (from cohere) (2.33.2)\n",
      "Requirement already satisfied: requests<3.0.0,>=2.0.0 in c:\\users\\hp laptop\\appdata\\roaming\\python\\python312\\site-packages (from cohere) (2.32.3)\n",
      "Requirement already satisfied: tokenizers<1,>=0.15 in c:\\users\\hp laptop\\appdata\\roaming\\python\\python312\\site-packages (from cohere) (0.21.1)\n",
      "Collecting types-requests<3.0.0,>=2.0.0 (from cohere)\n",
      "  Downloading types_requests-2.32.4.20250611-py3-none-any.whl.metadata (2.1 kB)\n",
      "Requirement already satisfied: typing_extensions>=4.0.0 in c:\\users\\hp laptop\\appdata\\roaming\\python\\python312\\site-packages (from cohere) (4.13.2)\n",
      "Requirement already satisfied: langchain<1.0.0,>=0.3.26 in c:\\users\\hp laptop\\appdata\\roaming\\python\\python312\\site-packages (from langchain-community<0.4.0,>=0.3.0->langchain-cohere) (0.3.26)\n",
      "Requirement already satisfied: SQLAlchemy<3,>=1.4 in c:\\users\\hp laptop\\appdata\\roaming\\python\\python312\\site-packages (from langchain-community<0.4.0,>=0.3.0->langchain-cohere) (2.0.41)\n",
      "Requirement already satisfied: PyYAML>=5.3 in c:\\users\\hp laptop\\appdata\\roaming\\python\\python312\\site-packages (from langchain-community<0.4.0,>=0.3.0->langchain-cohere) (6.0.2)\n",
      "Requirement already satisfied: aiohttp<4.0.0,>=3.8.3 in c:\\users\\hp laptop\\appdata\\roaming\\python\\python312\\site-packages (from langchain-community<0.4.0,>=0.3.0->langchain-cohere) (3.12.13)\n",
      "Requirement already satisfied: tenacity!=8.4.0,<10,>=8.1.0 in c:\\users\\hp laptop\\appdata\\roaming\\python\\python312\\site-packages (from langchain-community<0.4.0,>=0.3.0->langchain-cohere) (9.1.2)\n",
      "Requirement already satisfied: dataclasses-json<0.7,>=0.5.7 in c:\\users\\hp laptop\\appdata\\roaming\\python\\python312\\site-packages (from langchain-community<0.4.0,>=0.3.0->langchain-cohere) (0.6.7)\n",
      "Requirement already satisfied: pydantic-settings<3.0.0,>=2.4.0 in c:\\users\\hp laptop\\appdata\\roaming\\python\\python312\\site-packages (from langchain-community<0.4.0,>=0.3.0->langchain-cohere) (2.10.1)\n",
      "Requirement already satisfied: langsmith>=0.1.125 in c:\\users\\hp laptop\\appdata\\roaming\\python\\python312\\site-packages (from langchain-community<0.4.0,>=0.3.0->langchain-cohere) (0.4.4)\n",
      "Requirement already satisfied: numpy>=1.26.2 in c:\\users\\hp laptop\\appdata\\roaming\\python\\python312\\site-packages (from langchain-community<0.4.0,>=0.3.0->langchain-cohere) (2.2.5)\n",
      "Requirement already satisfied: aiohappyeyeballs>=2.5.0 in c:\\users\\hp laptop\\appdata\\roaming\\python\\python312\\site-packages (from aiohttp<4.0.0,>=3.8.3->langchain-community<0.4.0,>=0.3.0->langchain-cohere) (2.6.1)\n",
      "Requirement already satisfied: aiosignal>=1.1.2 in c:\\users\\hp laptop\\appdata\\roaming\\python\\python312\\site-packages (from aiohttp<4.0.0,>=3.8.3->langchain-community<0.4.0,>=0.3.0->langchain-cohere) (1.4.0)\n",
      "Requirement already satisfied: attrs>=17.3.0 in c:\\users\\hp laptop\\appdata\\roaming\\python\\python312\\site-packages (from aiohttp<4.0.0,>=3.8.3->langchain-community<0.4.0,>=0.3.0->langchain-cohere) (25.3.0)\n",
      "Requirement already satisfied: frozenlist>=1.1.1 in c:\\users\\hp laptop\\appdata\\roaming\\python\\python312\\site-packages (from aiohttp<4.0.0,>=3.8.3->langchain-community<0.4.0,>=0.3.0->langchain-cohere) (1.7.0)\n",
      "Requirement already satisfied: multidict<7.0,>=4.5 in c:\\users\\hp laptop\\appdata\\roaming\\python\\python312\\site-packages (from aiohttp<4.0.0,>=3.8.3->langchain-community<0.4.0,>=0.3.0->langchain-cohere) (6.6.3)\n",
      "Requirement already satisfied: propcache>=0.2.0 in c:\\users\\hp laptop\\appdata\\roaming\\python\\python312\\site-packages (from aiohttp<4.0.0,>=3.8.3->langchain-community<0.4.0,>=0.3.0->langchain-cohere) (0.3.2)\n",
      "Requirement already satisfied: yarl<2.0,>=1.17.0 in c:\\users\\hp laptop\\appdata\\roaming\\python\\python312\\site-packages (from aiohttp<4.0.0,>=3.8.3->langchain-community<0.4.0,>=0.3.0->langchain-cohere) (1.20.1)\n",
      "Requirement already satisfied: marshmallow<4.0.0,>=3.18.0 in c:\\users\\hp laptop\\appdata\\roaming\\python\\python312\\site-packages (from dataclasses-json<0.7,>=0.5.7->langchain-community<0.4.0,>=0.3.0->langchain-cohere) (3.26.1)\n",
      "Requirement already satisfied: typing-inspect<1,>=0.4.0 in c:\\users\\hp laptop\\appdata\\roaming\\python\\python312\\site-packages (from dataclasses-json<0.7,>=0.5.7->langchain-community<0.4.0,>=0.3.0->langchain-cohere) (0.9.0)\n",
      "Requirement already satisfied: langchain-text-splitters<1.0.0,>=0.3.8 in c:\\users\\hp laptop\\appdata\\roaming\\python\\python312\\site-packages (from langchain<1.0.0,>=0.3.26->langchain-community<0.4.0,>=0.3.0->langchain-cohere) (0.3.8)\n",
      "Requirement already satisfied: jsonpatch<2.0,>=1.33 in c:\\users\\hp laptop\\appdata\\roaming\\python\\python312\\site-packages (from langchain-core<0.4.0,>=0.3.27->langchain-cohere) (1.33)\n",
      "Requirement already satisfied: packaging<25,>=23.2 in c:\\users\\hp laptop\\appdata\\roaming\\python\\python312\\site-packages (from langchain-core<0.4.0,>=0.3.27->langchain-cohere) (24.2)\n",
      "Requirement already satisfied: jsonpointer>=1.9 in c:\\users\\hp laptop\\appdata\\roaming\\python\\python312\\site-packages (from jsonpatch<2.0,>=1.33->langchain-core<0.4.0,>=0.3.27->langchain-cohere) (3.0.0)\n",
      "Requirement already satisfied: annotated-types>=0.6.0 in c:\\users\\hp laptop\\appdata\\roaming\\python\\python312\\site-packages (from pydantic<3,>=2->langchain-cohere) (0.7.0)\n",
      "Requirement already satisfied: typing-inspection>=0.4.0 in c:\\users\\hp laptop\\appdata\\roaming\\python\\python312\\site-packages (from pydantic<3,>=2->langchain-cohere) (0.4.1)\n",
      "Requirement already satisfied: python-dotenv>=0.21.0 in c:\\users\\hp laptop\\appdata\\roaming\\python\\python312\\site-packages (from pydantic-settings<3.0.0,>=2.4.0->langchain-community<0.4.0,>=0.3.0->langchain-cohere) (1.1.1)\n",
      "Requirement already satisfied: charset-normalizer<4,>=2 in c:\\users\\hp laptop\\appdata\\roaming\\python\\python312\\site-packages (from requests<3.0.0,>=2.0.0->cohere) (3.4.2)\n",
      "Requirement already satisfied: idna<4,>=2.5 in c:\\users\\hp laptop\\appdata\\roaming\\python\\python312\\site-packages (from requests<3.0.0,>=2.0.0->cohere) (3.10)\n",
      "Requirement already satisfied: urllib3<3,>=1.21.1 in c:\\users\\hp laptop\\appdata\\roaming\\python\\python312\\site-packages (from requests<3.0.0,>=2.0.0->cohere) (2.4.0)\n",
      "Requirement already satisfied: certifi>=2017.4.17 in c:\\users\\hp laptop\\appdata\\roaming\\python\\python312\\site-packages (from requests<3.0.0,>=2.0.0->cohere) (2025.4.26)\n",
      "Requirement already satisfied: greenlet>=1 in c:\\users\\hp laptop\\appdata\\roaming\\python\\python312\\site-packages (from SQLAlchemy<3,>=1.4->langchain-community<0.4.0,>=0.3.0->langchain-cohere) (3.2.3)\n",
      "Requirement already satisfied: huggingface-hub<1.0,>=0.16.4 in c:\\users\\hp laptop\\appdata\\roaming\\python\\python312\\site-packages (from tokenizers<1,>=0.15->cohere) (0.31.2)\n",
      "Requirement already satisfied: filelock in c:\\users\\hp laptop\\appdata\\roaming\\python\\python312\\site-packages (from huggingface-hub<1.0,>=0.16.4->tokenizers<1,>=0.15->cohere) (3.18.0)\n",
      "Requirement already satisfied: fsspec>=2023.5.0 in c:\\users\\hp laptop\\appdata\\roaming\\python\\python312\\site-packages (from huggingface-hub<1.0,>=0.16.4->tokenizers<1,>=0.15->cohere) (2025.3.2)\n",
      "Requirement already satisfied: tqdm>=4.42.1 in c:\\users\\hp laptop\\appdata\\roaming\\python\\python312\\site-packages (from huggingface-hub<1.0,>=0.16.4->tokenizers<1,>=0.15->cohere) (4.67.1)\n",
      "Requirement already satisfied: mypy-extensions>=0.3.0 in c:\\users\\hp laptop\\appdata\\roaming\\python\\python312\\site-packages (from typing-inspect<1,>=0.4.0->dataclasses-json<0.7,>=0.5.7->langchain-community<0.4.0,>=0.3.0->langchain-cohere) (1.1.0)\n",
      "Requirement already satisfied: anyio in c:\\users\\hp laptop\\appdata\\roaming\\python\\python312\\site-packages (from httpx>=0.21.2->cohere) (4.9.0)\n",
      "Requirement already satisfied: httpcore==1.* in c:\\users\\hp laptop\\appdata\\roaming\\python\\python312\\site-packages (from httpx>=0.21.2->cohere) (1.0.9)\n",
      "Requirement already satisfied: h11>=0.16 in c:\\users\\hp laptop\\appdata\\roaming\\python\\python312\\site-packages (from httpcore==1.*->httpx>=0.21.2->cohere) (0.16.0)\n",
      "Requirement already satisfied: orjson<4.0.0,>=3.9.14 in c:\\users\\hp laptop\\appdata\\roaming\\python\\python312\\site-packages (from langsmith>=0.1.125->langchain-community<0.4.0,>=0.3.0->langchain-cohere) (3.10.18)\n",
      "Requirement already satisfied: requests-toolbelt<2.0.0,>=1.0.0 in c:\\users\\hp laptop\\appdata\\roaming\\python\\python312\\site-packages (from langsmith>=0.1.125->langchain-community<0.4.0,>=0.3.0->langchain-cohere) (1.0.0)\n",
      "Requirement already satisfied: zstandard<0.24.0,>=0.23.0 in c:\\users\\hp laptop\\appdata\\roaming\\python\\python312\\site-packages (from langsmith>=0.1.125->langchain-community<0.4.0,>=0.3.0->langchain-cohere) (0.23.0)\n",
      "Requirement already satisfied: colorama in c:\\users\\hp laptop\\appdata\\roaming\\python\\python312\\site-packages (from tqdm>=4.42.1->huggingface-hub<1.0,>=0.16.4->tokenizers<1,>=0.15->cohere) (0.4.6)\n",
      "Requirement already satisfied: sniffio>=1.1 in c:\\users\\hp laptop\\appdata\\roaming\\python\\python312\\site-packages (from anyio->httpx>=0.21.2->cohere) (1.3.1)\n",
      "Downloading langchain_cohere-0.4.4-py3-none-any.whl (42 kB)\n",
      "Downloading cohere-5.15.0-py3-none-any.whl (259 kB)\n",
      "Using cached httpx_sse-0.4.0-py3-none-any.whl (7.8 kB)\n",
      "Downloading fastavro-1.11.1-cp312-cp312-win_amd64.whl (442 kB)\n",
      "Downloading types_pyyaml-6.0.12.20250516-py3-none-any.whl (20 kB)\n",
      "Downloading types_requests-2.32.4.20250611-py3-none-any.whl (20 kB)\n",
      "Installing collected packages: types-requests, types-pyyaml, httpx-sse, fastavro, cohere, langchain-cohere\n",
      "\n",
      "  Attempting uninstall: httpx-sse\n",
      "\n",
      "    Found existing installation: httpx-sse 0.4.1\n",
      "\n",
      "    Uninstalling httpx-sse-0.4.1:\n",
      "\n",
      "      Successfully uninstalled httpx-sse-0.4.1\n",
      "\n",
      "   -------------------- ------------------- 3/6 [fastavro]\n",
      "   -------------------- ------------------- 3/6 [fastavro]\n",
      "   -------------------- ------------------- 3/6 [fastavro]\n",
      "   -------------------------- ------------- 4/6 [cohere]\n",
      "   -------------------------- ------------- 4/6 [cohere]\n",
      "   -------------------------- ------------- 4/6 [cohere]\n",
      "   -------------------------- ------------- 4/6 [cohere]\n",
      "   -------------------------- ------------- 4/6 [cohere]\n",
      "   -------------------------- ------------- 4/6 [cohere]\n",
      "   -------------------------- ------------- 4/6 [cohere]\n",
      "   -------------------------- ------------- 4/6 [cohere]\n",
      "   -------------------------- ------------- 4/6 [cohere]\n",
      "   -------------------------- ------------- 4/6 [cohere]\n",
      "   -------------------------- ------------- 4/6 [cohere]\n",
      "   --------------------------------- ------ 5/6 [langchain-cohere]\n",
      "   --------------------------------- ------ 5/6 [langchain-cohere]\n",
      "   ---------------------------------------- 6/6 [langchain-cohere]\n",
      "\n",
      "Successfully installed cohere-5.15.0 fastavro-1.11.1 httpx-sse-0.4.0 langchain-cohere-0.4.4 types-pyyaml-6.0.12.20250516 types-requests-2.32.4.20250611\n"
     ]
    }
   ],
   "source": [
    "!pip install langchain-cohere cohere"
   ]
  },
  {
   "cell_type": "code",
   "execution_count": 69,
   "id": "5397ec59",
   "metadata": {},
   "outputs": [
    {
     "name": "stdout",
     "output_type": "stream",
     "text": [
      "The capital of France is Paris.\n"
     ]
    }
   ],
   "source": [
    "from langchain_cohere import ChatCohere\n",
    "\n",
    "llm = ChatCohere(model=\"command-r\", temperature=0.4)\n",
    "\n",
    "response = llm.invoke(\"What is the capital of France?\")\n",
    "print(response.content)"
   ]
  },
  {
   "cell_type": "code",
   "execution_count": 70,
   "id": "57ffb56e",
   "metadata": {},
   "outputs": [
    {
     "name": "stdout",
     "output_type": "stream",
     "text": [
      "The capital of France is Paris.\n"
     ]
    }
   ],
   "source": [
    "import os\n",
    "from langchain_cohere import ChatCohere\n",
    "\n",
    "# Set your Cohere API key\n",
    "os.environ[\"COHERE_API_KEY\"] = \"NBP7WXJCUucInhPHSJMfiPSlz2TKC3mTCr1VxxmP\"\n",
    "\n",
    "# Initialize the Cohere chat model\n",
    "llm = ChatCohere(model=\"command-r\", temperature=0.4)\n",
    "\n",
    "# Run a prompt\n",
    "response = llm.invoke(\"What is the capital of France?\")\n",
    "print(response.content)"
   ]
  },
  {
   "cell_type": "code",
   "execution_count": 72,
   "id": "4ae909f4",
   "metadata": {},
   "outputs": [
    {
     "name": "stdout",
     "output_type": "stream",
     "text": [
      "Answer: Diabetes mellitus is a chronic condition where the body cannot absorb glucose into its cells due to insufficient or ineffective insulin. This energy source shortage manifests as a host of symptoms, including frequent urination, extreme hunger and thirst, and lethargy. Treatment involves dietary changes, medication, and sometimes insulin injections.\n"
     ]
    }
   ],
   "source": [
    "from langchain_cohere import ChatCohere\n",
    "from langchain.chains import create_retrieval_chain\n",
    "from langchain.chains.combine_documents import create_stuff_documents_chain\n",
    "from langchain_core.prompts import ChatPromptTemplate\n",
    "import os\n",
    "\n",
    "# ✅ Set Cohere API key\n",
    "os.environ[\"COHERE_API_KEY\"] = \"NBP7WXJCUucInhPHSJMfiPSlz2TKC3mTCr1VxxmP\"\n",
    "\n",
    "# ✅ Load your embedding model and Pinecone vector store (already uploaded earlier)\n",
    "from langchain_community.embeddings import HuggingFaceEmbeddings\n",
    "from langchain_pinecone import PineconeVectorStore\n",
    "\n",
    "embedding = HuggingFaceEmbeddings(model_name=\"sentence-transformers/all-MiniLM-L6-v2\")\n",
    "docsearch = PineconeVectorStore.from_existing_index(\n",
    "    index_name=\"medicalbot\",\n",
    "    embedding=embedding\n",
    ")\n",
    "\n",
    "# ✅ Define the retriever\n",
    "retriever = docsearch.as_retriever()\n",
    "\n",
    "# ✅ Initialize Cohere LLM\n",
    "llm = ChatCohere(model=\"command-r\", temperature=0.4)\n",
    "\n",
    "# ✅ Prompt for retrieval-based QA\n",
    "prompt = ChatPromptTemplate.from_messages([\n",
    "    (\"system\", \n",
    "     \"You are an assistant for question-answering tasks. \"\n",
    "     \"Use the following pieces of retrieved context to answer the question. \"\n",
    "     \"If you don't know the answer, say you don't know. \"\n",
    "     \"Answer concisely in three sentences.\\n\\n{context}\"),\n",
    "    (\"human\", \"{input}\")\n",
    "])\n",
    "\n",
    "# ✅ Create the document QA chain\n",
    "document_chain = create_stuff_documents_chain(llm, prompt)\n",
    "\n",
    "# ✅ Combine with retriever\n",
    "retrieval_chain = create_retrieval_chain(retriever, document_chain)\n",
    "\n",
    "# ✅ Example usage\n",
    "response = retrieval_chain.invoke({\"input\": \"What is diabetes?\"})\n",
    "print(\"Answer:\", response[\"answer\"])"
   ]
  },
  {
   "cell_type": "code",
   "execution_count": 73,
   "id": "1905495b",
   "metadata": {},
   "outputs": [
    {
     "name": "stdout",
     "output_type": "stream",
     "text": [
      "Answer: Acne is a skin disease that causes pimples and inflammation on the face, chest, and back. It happens when hair follicles become blocked by oil, dead skin cells, and bacteria. This blockage is called sebum and it collects inside the pores, leading to acne lesions.\n"
     ]
    }
   ],
   "source": [
    "response = retrieval_chain.invoke({\"input\": \"What is Acne?\"})\n",
    "print(\"Answer:\", response[\"answer\"])"
   ]
  }
 ],
 "metadata": {
  "kernelspec": {
   "display_name": "Python (medibot)",
   "language": "python",
   "name": "medibot"
  },
  "language_info": {
   "codemirror_mode": {
    "name": "ipython",
    "version": 3
   },
   "file_extension": ".py",
   "mimetype": "text/x-python",
   "name": "python",
   "nbconvert_exporter": "python",
   "pygments_lexer": "ipython3",
   "version": "3.12.6"
  }
 },
 "nbformat": 4,
 "nbformat_minor": 5
}
